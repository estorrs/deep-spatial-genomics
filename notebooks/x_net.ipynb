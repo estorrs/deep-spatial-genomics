{
 "cells": [
  {
   "cell_type": "code",
   "execution_count": 1,
   "id": "37540be1",
   "metadata": {},
   "outputs": [],
   "source": [
    "from deep_spatial_genomics.models.x_unet import XUnet"
   ]
  },
  {
   "cell_type": "code",
   "execution_count": 2,
   "id": "ad513e93",
   "metadata": {},
   "outputs": [],
   "source": [
    "# !pip install --force-reinstall git+https://github.com/estorrs/deep-spatial-genomics"
   ]
  },
  {
   "cell_type": "code",
   "execution_count": 3,
   "id": "3a953340",
   "metadata": {},
   "outputs": [],
   "source": [
    "import torch"
   ]
  },
  {
   "cell_type": "code",
   "execution_count": 4,
   "id": "bab9938a",
   "metadata": {},
   "outputs": [],
   "source": [
    "unet = XUnet(\n",
    "    dim = 32,\n",
    "    dim_mults = (1, 2, 4, 8),\n",
    "    nested_unet_depths = (7, 4, 2, 1),     # nested unet depths, from unet-squared paper\n",
    "    consolidate_upsample_fmaps = True,     # whether to consolidate outputs from all upsample blocks, used in unet-squared paper\n",
    ").cuda()"
   ]
  },
  {
   "cell_type": "code",
   "execution_count": 5,
   "id": "d3fb4c29",
   "metadata": {},
   "outputs": [],
   "source": [
    "img = torch.randn(16, 3, 256, 256).cuda()"
   ]
  },
  {
   "cell_type": "code",
   "execution_count": 6,
   "id": "c8807579",
   "metadata": {},
   "outputs": [
    {
     "data": {
      "text/plain": [
       "torch.Size([16, 3, 256, 256])"
      ]
     },
     "execution_count": 6,
     "metadata": {},
     "output_type": "execute_result"
    }
   ],
   "source": [
    "out = unet(img) # (1, 3, 256, 256)\n",
    "out.shape"
   ]
  },
  {
   "cell_type": "code",
   "execution_count": null,
   "id": "fa7f1a15",
   "metadata": {},
   "outputs": [],
   "source": []
  }
 ],
 "metadata": {
  "kernelspec": {
   "display_name": "Python 3 (ipykernel)",
   "language": "python",
   "name": "python3"
  },
  "language_info": {
   "codemirror_mode": {
    "name": "ipython",
    "version": 3
   },
   "file_extension": ".py",
   "mimetype": "text/x-python",
   "name": "python",
   "nbconvert_exporter": "python",
   "pygments_lexer": "ipython3",
   "version": "3.9.12"
  }
 },
 "nbformat": 4,
 "nbformat_minor": 5
}
