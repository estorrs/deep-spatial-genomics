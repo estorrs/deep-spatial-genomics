{
 "cells": [
  {
   "cell_type": "code",
   "execution_count": 3,
   "id": "eb5f7f12",
   "metadata": {},
   "outputs": [],
   "source": [
    "import logging\n",
    "import json\n",
    "import os\n",
    "import re\n",
    "from typing import Optional, List\n",
    "\n",
    "import scanpy as sc \n",
    "import pandas as pd\n",
    "import matplotlib.pyplot as plt\n",
    "import matplotlib.patches as patches\n",
    "import numpy as np\n",
    "import pytorch_lightning as pl\n",
    "import torch\n",
    "import torch.nn as nn\n",
    "import torch.nn.functional as F\n",
    "import torchvision.transforms.functional as TF\n",
    "import wandb\n",
    "from torch.utils.data import DataLoader, Dataset, SubsetRandomSampler, BatchSampler\n",
    "from torchvision.transforms import ColorJitter, Normalize, RandomHorizontalFlip, RandomVerticalFlip, RandomAdjustSharpness\n",
    "from timm import create_model\n",
    "from einops import rearrange, reduce\n",
    "from skimage.color import label2rgb\n",
    "from skimage.measure import regionprops_table"
   ]
  },
  {
   "cell_type": "code",
   "execution_count": 2,
   "id": "4a2ff5dc",
   "metadata": {},
   "outputs": [
    {
     "name": "stderr",
     "output_type": "stream",
     "text": [
      "\u001b[34m\u001b[1mwandb\u001b[0m: Currently logged in as: \u001b[33mestorrs\u001b[0m (\u001b[33mtme-st\u001b[0m). Use \u001b[1m`wandb login --relogin`\u001b[0m to force relogin\n"
     ]
    },
    {
     "data": {
      "text/plain": [
       "True"
      ]
     },
     "execution_count": 2,
     "metadata": {},
     "output_type": "execute_result"
    }
   ],
   "source": [
    "wandb.login() "
   ]
  },
  {
   "cell_type": "markdown",
   "id": "41d7b850",
   "metadata": {},
   "source": [
    "#### load annotations"
   ]
  },
  {
   "cell_type": "code",
   "execution_count": null,
   "id": "ba4bd4a3",
   "metadata": {},
   "outputs": [],
   "source": []
  }
 ],
 "metadata": {
  "kernelspec": {
   "display_name": "Python 3 (ipykernel)",
   "language": "python",
   "name": "python3"
  },
  "language_info": {
   "codemirror_mode": {
    "name": "ipython",
    "version": 3
   },
   "file_extension": ".py",
   "mimetype": "text/x-python",
   "name": "python",
   "nbconvert_exporter": "python",
   "pygments_lexer": "ipython3",
   "version": "3.9.12"
  }
 },
 "nbformat": 4,
 "nbformat_minor": 5
}
